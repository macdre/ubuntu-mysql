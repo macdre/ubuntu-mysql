{
 "cells": [
  {
   "cell_type": "code",
   "execution_count": null,
   "metadata": {},
   "outputs": [],
   "source": [
    "library(RODBC)\n",
    "library(tidyverse)\n",
    "library(keras)"
   ]
  },
  {
   "cell_type": "code",
   "execution_count": null,
   "metadata": {},
   "outputs": [],
   "source": [
    "dsn <- \"DSN=directusodbc;UID=dev;PWD=dev\"\n",
    "conn <- odbcDriverConnect(dsn)\n",
    "result <- sqlQuery(conn, paste(\"SELECT * from Jena_Climate\"))"
   ]
  },
  {
   "cell_type": "code",
   "execution_count": null,
   "metadata": {},
   "outputs": [],
   "source": [
    "data <- data.matrix(result[,-1])"
   ]
  },
  {
   "cell_type": "code",
   "execution_count": null,
   "metadata": {},
   "outputs": [],
   "source": [
    "train_data <- data[1:200000,]\n",
    "mean <- apply(train_data, 2, mean)\n",
    "std <- apply(train_data, 2, sd)\n",
    "data <- scale(data, center = mean, scale = std)"
   ]
  },
  {
   "cell_type": "code",
   "execution_count": null,
   "metadata": {},
   "outputs": [],
   "source": [
    "generator <- function(data, lookback, delay, min_index, max_index,\n",
    "                      shuffle = FALSE, batch_size = 128, step = 6) {\n",
    "  if (is.null(max_index))\n",
    "    max_index <- nrow(data) - delay - 1\n",
    "  i <- min_index + lookback\n",
    "  function() {\n",
    "    if (shuffle) {\n",
    "      rows <- sample(c((min_index+lookback):max_index), size = batch_size)\n",
    "    } else {\n",
    "      if (i + batch_size >= max_index)\n",
    "        i <<- min_index + lookback\n",
    "      rows <- c(i:min(i+batch_size-1, max_index))\n",
    "      i <<- i + length(rows)\n",
    "    }\n",
    "\n",
    "    samples <- array(0, dim = c(length(rows),\n",
    "                                lookback / step,\n",
    "                                dim(data)[[-1]]))\n",
    "    targets <- array(0, dim = c(length(rows)))\n",
    "                      \n",
    "    for (j in 1:length(rows)) {\n",
    "      indices <- seq(rows[[j]] - lookback, rows[[j]]-1,\n",
    "                     length.out = dim(samples)[[2]])\n",
    "      samples[j,,] <- data[indices,]\n",
    "      targets[[j]] <- data[rows[[j]] + delay,2]\n",
    "    }           \n",
    "    list(samples, targets)\n",
    "  }\n",
    "}"
   ]
  },
  {
   "cell_type": "code",
   "execution_count": null,
   "metadata": {},
   "outputs": [],
   "source": [
    "lookback <- 1440\n",
    "step <- 6\n",
    "delay <- 144\n",
    "batch_size <- 128\n",
    "\n",
    "train_gen <- generator(\n",
    "  data,\n",
    "  lookback = lookback,\n",
    "  delay = delay,\n",
    "  min_index = 1,\n",
    "  max_index = 200000,\n",
    "  shuffle = TRUE,\n",
    "  step = step, \n",
    "  batch_size = batch_size\n",
    ")\n",
    "\n",
    "val_gen = generator(\n",
    "  data,\n",
    "  lookback = lookback,\n",
    "  delay = delay,\n",
    "  min_index = 200001,\n",
    "  max_index = 300000,\n",
    "  step = step,\n",
    "  batch_size = batch_size\n",
    ")\n",
    "\n",
    "test_gen <- generator(\n",
    "  data,\n",
    "  lookback = lookback,\n",
    "  delay = delay,\n",
    "  min_index = 300001,\n",
    "  max_index = NULL,\n",
    "  step = step,\n",
    "  batch_size = batch_size\n",
    ")"
   ]
  },
  {
   "cell_type": "code",
   "execution_count": null,
   "metadata": {},
   "outputs": [],
   "source": [
    "# How many steps to draw from val_gen in order to see the entire validation set\n",
    "val_steps <- (300000 - 200001 - lookback) / batch_size\n",
    "\n",
    "# How many steps to draw from test_gen in order to see the entire test set\n",
    "test_steps <- (nrow(data) - 300001 - lookback) / batch_size"
   ]
  },
  {
   "cell_type": "code",
   "execution_count": null,
   "metadata": {},
   "outputs": [],
   "source": [
    "model <- keras_model_sequential() %>% \n",
    "  layer_flatten(input_shape = c(lookback / step, dim(data)[-1])) %>% \n",
    "  layer_dense(units = 32, activation = \"relu\") %>% \n",
    "  layer_dense(units = 1)\n",
    "\n",
    "model %>% compile(\n",
    "  optimizer = optimizer_rmsprop(),\n",
    "  loss = \"mae\"\n",
    ")\n",
    "\n",
    "history <- model %>% fit_generator(\n",
    "  train_gen,\n",
    "  steps_per_epoch = 500,\n",
    "  epochs = 20,\n",
    "  validation_data = val_gen,\n",
    "  validation_steps = val_steps\n",
    ")"
   ]
  },
  {
   "cell_type": "code",
   "execution_count": null,
   "metadata": {},
   "outputs": [],
   "source": [
    "plot(history)"
   ]
  },
  {
   "cell_type": "code",
   "execution_count": null,
   "metadata": {
    "scrolled": true
   },
   "outputs": [],
   "source": [
    "model <- keras_model_sequential() %>% \n",
    "  layer_gru(units = 32, input_shape = list(NULL, dim(data)[[-1]])) %>% \n",
    "  layer_dense(units = 1)\n",
    "\n",
    "model %>% compile(\n",
    "  optimizer = optimizer_rmsprop(),\n",
    "  loss = \"mae\"\n",
    ")\n",
    "\n",
    "history <- model %>% fit_generator(\n",
    "  train_gen,\n",
    "  steps_per_epoch = 500,\n",
    "  epochs = 20,\n",
    "  validation_data = val_gen,\n",
    "  validation_steps = val_steps\n",
    ")\n",
    "plot(history)"
   ]
  }
 ],
 "metadata": {
  "kernelspec": {
   "display_name": "R",
   "language": "R",
   "name": "ir"
  },
  "language_info": {
   "codemirror_mode": "r",
   "file_extension": ".r",
   "mimetype": "text/x-r-source",
   "name": "R",
   "pygments_lexer": "r",
   "version": "3.5.1"
  }
 },
 "nbformat": 4,
 "nbformat_minor": 2
}
